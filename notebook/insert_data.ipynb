{
 "cells": [
  {
   "cell_type": "code",
   "execution_count": null,
   "metadata": {},
   "outputs": [],
   "source": [
    "from price_comparison.app import db\n",
    "from price_comparison.app import app\n",
    "from price_comparison.model import Product, Store, Price\n",
    "from datetime import datetime\n",
    "\n",
    "def insert_test_data():\n",
    "    db.create_all()\n",
    "\n",
    "    # 插入產品數據\n",
    "    product1 = Product(name='iPhone 13', description='Apple smartphone', category='Electronics')\n",
    "    product2 = Product(name='Samsung Galaxy S21', description='Samsung smartphone', category='Electronics')\n",
    "    product3 = Product(name='Dell XPS 13', description='Dell laptop', category='Computers')\n",
    "\n",
    "    # 插入商店數據\n",
    "    store1 = Store(name='Best Buy', address='123 Main St', contact='(555) 123-4567')\n",
    "    store2 = Store(name='Amazon', address='Online', contact='support@amazon.com')\n",
    "    store3 = Store(name='Walmart', address='456 Elm St', contact='(555) 987-6543')\n",
    "\n",
    "    db.session.add_all([product1, product2, product3, store1, store2, store3])\n",
    "    db.session.commit()\n",
    "\n",
    "    # 插入價格數據\n",
    "    price1 = Price(product_id=product1.id, store_id=store1.id, price=799.99, updated_at=datetime.now())\n",
    "    price2 = Price(product_id=product1.id, store_id=store2.id, price=789.99, updated_at=datetime.now())\n",
    "    price3 = Price(product_id=product1.id, store_id=store3.id, price=799.00, updated_at=datetime.now())\n",
    "\n",
    "    price4 = Price(product_id=product2.id, store_id=store1.id, price=699.99, updated_at=datetime.now())\n",
    "    price5 = Price(product_id=product2.id, store_id=store2.id, price=689.99, updated_at=datetime.now())\n",
    "    price6 = Price(product_id=product2.id, store_id=store3.id, price=695.00, updated_at=datetime.now())\n",
    "\n",
    "    price7 = Price(product_id=product3.id, store_id=store1.id, price=999.99, updated_at=datetime.now())\n",
    "    price8 = Price(product_id=product3.id, store_id=store2.id, price=979.99, updated_at=datetime.now())\n",
    "    price9 = Price(product_id=product3.id, store_id=store3.id, price=999.00, updated_at=datetime.now())\n",
    "\n",
    "    db.session.add_all([price1, price2, price3, price4, price5, price6, price7, price8, price9])\n",
    "    db.session.commit()\n",
    "\n",
    "if __name__ == '__main__':\n",
    "    with app.app_context():\n",
    "        insert_test_data()\n"
   ]
  }
 ],
 "metadata": {
  "language_info": {
   "name": "python"
  },
  "orig_nbformat": 4
 },
 "nbformat": 4,
 "nbformat_minor": 2
}
